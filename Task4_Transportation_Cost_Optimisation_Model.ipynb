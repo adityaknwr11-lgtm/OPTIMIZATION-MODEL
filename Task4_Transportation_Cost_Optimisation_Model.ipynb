{
 "cells": [
  {
   "cell_type": "code",
   "execution_count": 1,
   "id": "61b22c20-1e8e-4822-9e8c-c4839afdab21",
   "metadata": {},
   "outputs": [],
   "source": [
    "import pulp\n",
    "import pandas as pd"
   ]
  },
  {
   "cell_type": "code",
   "execution_count": 2,
   "id": "eceaf9d1-4536-49a9-83f2-6541ead156c3",
   "metadata": {},
   "outputs": [],
   "source": [
    "model = pulp.LpProblem(\"Transportation_Cost_Minimization\", pulp.LpMinimize)"
   ]
  },
  {
   "cell_type": "code",
   "execution_count": 3,
   "id": "d5741b2f-d6c8-4838-88c7-ba098364b0a5",
   "metadata": {},
   "outputs": [],
   "source": [
    "supply = {'Factory_A': 35,'Factory_B': 50}\n",
    "demand = {'Warehouse_1': 30,'Warehouse_2': 25,'Warehouse_3': 30}\n",
    "costs = {('Factory_A', 'Warehouse_1'): 2,('Factory_A', 'Warehouse_2'): 4,('Factory_A', 'Warehouse_3'): 5,('Factory_B', 'Warehouse_1'): 3,('Factory_B', \n",
    "'Warehouse_2'): 1,('Factory_B', 'Warehouse_3'): 7}"
   ]
  },
  {
   "cell_type": "code",
   "execution_count": 4,
   "id": "519a7e3c-d3b0-4ea2-beed-4c7e5d737f64",
   "metadata": {},
   "outputs": [],
   "source": [
    "routes = pulp.LpVariable.dicts(\"Route\", (supply.keys(), demand.keys()), lowBound=0, cat='Continuous')"
   ]
  },
  {
   "cell_type": "code",
   "execution_count": 5,
   "id": "c3c51a26-7e17-4800-affe-a844046b1b83",
   "metadata": {},
   "outputs": [],
   "source": [
    "model += pulp.lpSum([routes[f][w] * costs[(f, w)] for f in supply for w in demand]), \"Total_Transportation_Cost\""
   ]
  },
  {
   "cell_type": "code",
   "execution_count": 6,
   "id": "bc8728cb-fdbe-4695-aff0-98321b205b99",
   "metadata": {},
   "outputs": [],
   "source": [
    "for f in supply:\n",
    "    model += pulp.lpSum([routes[f][w] for w in demand]) <= supply[f], f\"Supply_Constraint_{f}\"\n",
    "\n",
    "for w in demand:\n",
    "    model += pulp.lpSum([routes[f][w] for f in supply]) >= demand[w], f\"Demand_Constraint_{w}\""
   ]
  },
  {
   "cell_type": "code",
   "execution_count": 7,
   "id": "bf21a188-798e-4f26-a8fd-b543f522e1c5",
   "metadata": {},
   "outputs": [
    {
     "name": "stdout",
     "output_type": "stream",
     "text": [
      "Status: Optimal\n"
     ]
    }
   ],
   "source": [
    "model.solve()\n",
    "print(\"Status:\", pulp.LpStatus[model.status])"
   ]
  },
  {
   "cell_type": "code",
   "execution_count": 8,
   "id": "4ac82274-05cf-468d-a5e6-0f1c0a98c4a2",
   "metadata": {},
   "outputs": [
    {
     "name": "stdout",
     "output_type": "stream",
     "text": [
      "Ship from Factory_A to Warehouse_1: 5.0 units\n",
      "Ship from Factory_A to Warehouse_2: 0.0 units\n",
      "Ship from Factory_A to Warehouse_3: 30.0 units\n",
      "Ship from Factory_B to Warehouse_1: 25.0 units\n",
      "Ship from Factory_B to Warehouse_2: 25.0 units\n",
      "Ship from Factory_B to Warehouse_3: 0.0 units\n",
      "\n",
      "Total Transportation Cost = ₹ 260.0\n"
     ]
    }
   ],
   "source": [
    "for f in supply:\n",
    "    for w in demand:\n",
    "        print(f\"Ship from {f} to {w}: {routes[f][w].varValue} units\")\n",
    "        \n",
    "print(\"\\nTotal Transportation Cost = ₹\", pulp.value(model.objective))"
   ]
  },
  {
   "cell_type": "code",
   "execution_count": 9,
   "id": "045ba423-81fc-4a5e-a0cd-ccf1b1212092",
   "metadata": {},
   "outputs": [],
   "source": [
    "results = []\n",
    "for f in supply:\n",
    "    for w in demand:\n",
    "        results.append([f, w, routes[f][w].varValue, costs[(f, w)]])"
   ]
  },
  {
   "cell_type": "code",
   "execution_count": 10,
   "id": "a626633d-7f9e-4a01-b576-582c2e7f1128",
   "metadata": {},
   "outputs": [
    {
     "data": {
      "text/html": [
       "<div>\n",
       "<style scoped>\n",
       "    .dataframe tbody tr th:only-of-type {\n",
       "        vertical-align: middle;\n",
       "    }\n",
       "\n",
       "    .dataframe tbody tr th {\n",
       "        vertical-align: top;\n",
       "    }\n",
       "\n",
       "    .dataframe thead th {\n",
       "        text-align: right;\n",
       "    }\n",
       "</style>\n",
       "<table border=\"1\" class=\"dataframe\">\n",
       "  <thead>\n",
       "    <tr style=\"text-align: right;\">\n",
       "      <th></th>\n",
       "      <th>Factory</th>\n",
       "      <th>Warehouse</th>\n",
       "      <th>Units Shipped</th>\n",
       "      <th>Cost per Unit</th>\n",
       "      <th>Total Cost</th>\n",
       "    </tr>\n",
       "  </thead>\n",
       "  <tbody>\n",
       "    <tr>\n",
       "      <th>0</th>\n",
       "      <td>Factory_A</td>\n",
       "      <td>Warehouse_1</td>\n",
       "      <td>5.0</td>\n",
       "      <td>2</td>\n",
       "      <td>10.0</td>\n",
       "    </tr>\n",
       "    <tr>\n",
       "      <th>1</th>\n",
       "      <td>Factory_A</td>\n",
       "      <td>Warehouse_2</td>\n",
       "      <td>0.0</td>\n",
       "      <td>4</td>\n",
       "      <td>0.0</td>\n",
       "    </tr>\n",
       "    <tr>\n",
       "      <th>2</th>\n",
       "      <td>Factory_A</td>\n",
       "      <td>Warehouse_3</td>\n",
       "      <td>30.0</td>\n",
       "      <td>5</td>\n",
       "      <td>150.0</td>\n",
       "    </tr>\n",
       "    <tr>\n",
       "      <th>3</th>\n",
       "      <td>Factory_B</td>\n",
       "      <td>Warehouse_1</td>\n",
       "      <td>25.0</td>\n",
       "      <td>3</td>\n",
       "      <td>75.0</td>\n",
       "    </tr>\n",
       "    <tr>\n",
       "      <th>4</th>\n",
       "      <td>Factory_B</td>\n",
       "      <td>Warehouse_2</td>\n",
       "      <td>25.0</td>\n",
       "      <td>1</td>\n",
       "      <td>25.0</td>\n",
       "    </tr>\n",
       "    <tr>\n",
       "      <th>5</th>\n",
       "      <td>Factory_B</td>\n",
       "      <td>Warehouse_3</td>\n",
       "      <td>0.0</td>\n",
       "      <td>7</td>\n",
       "      <td>0.0</td>\n",
       "    </tr>\n",
       "  </tbody>\n",
       "</table>\n",
       "</div>"
      ],
      "text/plain": [
       "     Factory    Warehouse  Units Shipped  Cost per Unit  Total Cost\n",
       "0  Factory_A  Warehouse_1            5.0              2        10.0\n",
       "1  Factory_A  Warehouse_2            0.0              4         0.0\n",
       "2  Factory_A  Warehouse_3           30.0              5       150.0\n",
       "3  Factory_B  Warehouse_1           25.0              3        75.0\n",
       "4  Factory_B  Warehouse_2           25.0              1        25.0\n",
       "5  Factory_B  Warehouse_3            0.0              7         0.0"
      ]
     },
     "execution_count": 10,
     "metadata": {},
     "output_type": "execute_result"
    }
   ],
   "source": [
    "df = pd.DataFrame(results, columns=[\"Factory\", \"Warehouse\", \"Units Shipped\", \"Cost per Unit\"])\n",
    "df[\"Total Cost\"] = df[\"Units Shipped\"] * df[\"Cost per Unit\"]\n",
    "\n",
    "df"
   ]
  },
  {
   "cell_type": "code",
   "execution_count": 13,
   "id": "d58564b7-0125-457b-8569-8139f55c6c16",
   "metadata": {},
   "outputs": [
    {
     "name": "stdout",
     "output_type": "stream",
     "text": [
      "Supply:\n"
     ]
    },
    {
     "data": {
      "text/html": [
       "<div>\n",
       "<style scoped>\n",
       "    .dataframe tbody tr th:only-of-type {\n",
       "        vertical-align: middle;\n",
       "    }\n",
       "\n",
       "    .dataframe tbody tr th {\n",
       "        vertical-align: top;\n",
       "    }\n",
       "\n",
       "    .dataframe thead th {\n",
       "        text-align: right;\n",
       "    }\n",
       "</style>\n",
       "<table border=\"1\" class=\"dataframe\">\n",
       "  <thead>\n",
       "    <tr style=\"text-align: right;\">\n",
       "      <th></th>\n",
       "      <th>Available Supply</th>\n",
       "    </tr>\n",
       "  </thead>\n",
       "  <tbody>\n",
       "    <tr>\n",
       "      <th>Factory_A</th>\n",
       "      <td>35</td>\n",
       "    </tr>\n",
       "    <tr>\n",
       "      <th>Factory_B</th>\n",
       "      <td>50</td>\n",
       "    </tr>\n",
       "  </tbody>\n",
       "</table>\n",
       "</div>"
      ],
      "text/plain": [
       "           Available Supply\n",
       "Factory_A                35\n",
       "Factory_B                50"
      ]
     },
     "metadata": {},
     "output_type": "display_data"
    },
    {
     "name": "stdout",
     "output_type": "stream",
     "text": [
      "\n",
      "Demand:\n"
     ]
    },
    {
     "data": {
      "text/html": [
       "<div>\n",
       "<style scoped>\n",
       "    .dataframe tbody tr th:only-of-type {\n",
       "        vertical-align: middle;\n",
       "    }\n",
       "\n",
       "    .dataframe tbody tr th {\n",
       "        vertical-align: top;\n",
       "    }\n",
       "\n",
       "    .dataframe thead th {\n",
       "        text-align: right;\n",
       "    }\n",
       "</style>\n",
       "<table border=\"1\" class=\"dataframe\">\n",
       "  <thead>\n",
       "    <tr style=\"text-align: right;\">\n",
       "      <th></th>\n",
       "      <th>Required Demand</th>\n",
       "    </tr>\n",
       "  </thead>\n",
       "  <tbody>\n",
       "    <tr>\n",
       "      <th>Warehouse_1</th>\n",
       "      <td>30</td>\n",
       "    </tr>\n",
       "    <tr>\n",
       "      <th>Warehouse_2</th>\n",
       "      <td>25</td>\n",
       "    </tr>\n",
       "    <tr>\n",
       "      <th>Warehouse_3</th>\n",
       "      <td>30</td>\n",
       "    </tr>\n",
       "  </tbody>\n",
       "</table>\n",
       "</div>"
      ],
      "text/plain": [
       "             Required Demand\n",
       "Warehouse_1               30\n",
       "Warehouse_2               25\n",
       "Warehouse_3               30"
      ]
     },
     "metadata": {},
     "output_type": "display_data"
    }
   ],
   "source": [
    "supply_df = pd.DataFrame.from_dict(supply, orient='index', columns=[\"Available Supply\"])\n",
    "demand_df = pd.DataFrame.from_dict(demand, orient='index', columns=[\"Required Demand\"])\n",
    "\n",
    "print(\"Supply:\")\n",
    "display(supply_df)\n",
    "\n",
    "print(\"\\nDemand:\")\n",
    "display(demand_df)"
   ]
  },
  {
   "cell_type": "code",
   "execution_count": 15,
   "id": "a0bf6820-f962-4b09-aa91-2727c65029b6",
   "metadata": {},
   "outputs": [
    {
     "name": "stdout",
     "output_type": "stream",
     "text": [
      "Transportation Cost Matrix (Rs. per unit):\n"
     ]
    },
    {
     "data": {
      "text/html": [
       "<div>\n",
       "<style scoped>\n",
       "    .dataframe tbody tr th:only-of-type {\n",
       "        vertical-align: middle;\n",
       "    }\n",
       "\n",
       "    .dataframe tbody tr th {\n",
       "        vertical-align: top;\n",
       "    }\n",
       "\n",
       "    .dataframe thead th {\n",
       "        text-align: right;\n",
       "    }\n",
       "</style>\n",
       "<table border=\"1\" class=\"dataframe\">\n",
       "  <thead>\n",
       "    <tr style=\"text-align: right;\">\n",
       "      <th></th>\n",
       "      <th>Warehouse_1</th>\n",
       "      <th>Warehouse_2</th>\n",
       "      <th>Warehouse_3</th>\n",
       "    </tr>\n",
       "    <tr>\n",
       "      <th>Factory</th>\n",
       "      <th></th>\n",
       "      <th></th>\n",
       "      <th></th>\n",
       "    </tr>\n",
       "  </thead>\n",
       "  <tbody>\n",
       "    <tr>\n",
       "      <th>Factory_A</th>\n",
       "      <td>2.0</td>\n",
       "      <td>4.0</td>\n",
       "      <td>5.0</td>\n",
       "    </tr>\n",
       "    <tr>\n",
       "      <th>Factory_B</th>\n",
       "      <td>3.0</td>\n",
       "      <td>1.0</td>\n",
       "      <td>7.0</td>\n",
       "    </tr>\n",
       "  </tbody>\n",
       "</table>\n",
       "</div>"
      ],
      "text/plain": [
       "           Warehouse_1  Warehouse_2  Warehouse_3\n",
       "Factory                                         \n",
       "Factory_A          2.0          4.0          5.0\n",
       "Factory_B          3.0          1.0          7.0"
      ]
     },
     "metadata": {},
     "output_type": "display_data"
    }
   ],
   "source": [
    "cost_df = pd.DataFrame(index=supply.keys(), columns=demand.keys())\n",
    "\n",
    "for (f, w), c in costs.items():\n",
    "    cost_df.loc[f, w] = c\n",
    "\n",
    "cost_df = cost_df.astype(float)\n",
    "cost_df.index.name = \"Factory\"\n",
    "\n",
    "print(\"Transportation Cost Matrix (Rs. per unit):\")\n",
    "display(cost_df)"
   ]
  },
  {
   "cell_type": "code",
   "execution_count": null,
   "id": "aa1ff8e1-bacd-4346-a279-ace1795bb52c",
   "metadata": {},
   "outputs": [],
   "source": []
  }
 ],
 "metadata": {
  "kernelspec": {
   "display_name": "Python 3 (ipykernel)",
   "language": "python",
   "name": "python3"
  },
  "language_info": {
   "codemirror_mode": {
    "name": "ipython",
    "version": 3
   },
   "file_extension": ".py",
   "mimetype": "text/x-python",
   "name": "python",
   "nbconvert_exporter": "python",
   "pygments_lexer": "ipython3",
   "version": "3.9.1"
  }
 },
 "nbformat": 4,
 "nbformat_minor": 5
}
